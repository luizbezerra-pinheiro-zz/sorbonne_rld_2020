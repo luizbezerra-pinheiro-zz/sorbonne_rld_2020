{
 "cells": [
  {
   "cell_type": "markdown",
   "id": "upset-butterfly",
   "metadata": {},
   "source": [
    "# TME11 - RLD - GAIL\n",
    "\n",
    "## Luiz J. B Pinheiro \\& Matheus M. CENTA"
   ]
  },
  {
   "cell_type": "markdown",
   "id": "spatial-scanning",
   "metadata": {},
   "source": [
    "# Imports"
   ]
  },
  {
   "cell_type": "code",
   "execution_count": 1,
   "id": "juvenile-threat",
   "metadata": {},
   "outputs": [
    {
     "name": "stdout",
     "output_type": "stream",
     "text": [
      "Sat Feb 27 13:14:24 2021       \n",
      "+-----------------------------------------------------------------------------+\n",
      "| NVIDIA-SMI 460.39       Driver Version: 460.39       CUDA Version: 11.2     |\n",
      "|-------------------------------+----------------------+----------------------+\n",
      "| GPU  Name        Persistence-M| Bus-Id        Disp.A | Volatile Uncorr. ECC |\n",
      "| Fan  Temp  Perf  Pwr:Usage/Cap|         Memory-Usage | GPU-Util  Compute M. |\n",
      "|                               |                      |               MIG M. |\n",
      "|===============================+======================+======================|\n",
      "|   0  GeForce GTX 166...  Off  | 00000000:01:00.0 Off |                  N/A |\n",
      "| N/A   45C    P8     1W /  N/A |     10MiB /  5944MiB |      0%      Default |\n",
      "|                               |                      |                  N/A |\n",
      "+-------------------------------+----------------------+----------------------+\n",
      "                                                                               \n",
      "+-----------------------------------------------------------------------------+\n",
      "| Processes:                                                                  |\n",
      "|  GPU   GI   CI        PID   Type   Process name                  GPU Memory |\n",
      "|        ID   ID                                                   Usage      |\n",
      "|=============================================================================|\n",
      "|    0   N/A  N/A      1136      G   /usr/lib/xorg/Xorg                  4MiB |\n",
      "|    0   N/A  N/A      1784      G   /usr/lib/xorg/Xorg                  4MiB |\n",
      "+-----------------------------------------------------------------------------+\n"
     ]
    }
   ],
   "source": [
    "!nvidia-smi"
   ]
  },
  {
   "cell_type": "code",
   "execution_count": 2,
   "id": "incorporated-modeling",
   "metadata": {},
   "outputs": [
    {
     "name": "stdout",
     "output_type": "stream",
     "text": [
      "Collecting package metadata (current_repodata.json): done\n",
      "Solving environment: done\n",
      "\n",
      "# All requested packages already installed.\n",
      "\n",
      "Requirement already satisfied: Box2D in /home/luiz/miniconda3/envs/RLD/lib/python3.8/site-packages (2.3.10)\n",
      "Requirement already satisfied: box2d-py in /home/luiz/miniconda3/envs/RLD/lib/python3.8/site-packages (2.3.8)\n"
     ]
    }
   ],
   "source": [
    "!conda install -y swig\n",
    "!pip install Box2D\n",
    "!pip install box2d-py"
   ]
  },
  {
   "cell_type": "code",
   "execution_count": 3,
   "id": "twelve-worthy",
   "metadata": {},
   "outputs": [],
   "source": [
    "import os\n",
    "import pickle\n",
    "import time\n",
    "import matplotlib\n",
    "import gym\n",
    "import torch\n",
    "import torch.nn as nn\n",
    "from torch.utils.tensorboard import SummaryWriter\n",
    "import numpy as np\n",
    "\n",
    "device = torch.device('cuda' if torch.cuda.is_available() else 'cpu')"
   ]
  },
  {
   "cell_type": "code",
   "execution_count": 4,
   "id": "ordinary-porcelain",
   "metadata": {},
   "outputs": [],
   "source": []
  },
  {
   "cell_type": "markdown",
   "id": "organic-rider",
   "metadata": {},
   "source": [
    "# Chargement des données (expert)"
   ]
  },
  {
   "cell_type": "code",
   "execution_count": 3,
   "id": "republican-overall",
   "metadata": {},
   "outputs": [
    {
     "name": "stdout",
     "output_type": "stream",
     "text": [
      "--2021-02-27 13:05:04--  http://dac.lip6.fr/wp-content/uploads/2021/01/expert.zip\n",
      "Resolving dac.lip6.fr (dac.lip6.fr)... 132.227.201.10\n",
      "Connecting to dac.lip6.fr (dac.lip6.fr)|132.227.201.10|:80... connected.\n",
      "HTTP request sent, awaiting response... 301 Moved Permanently\n",
      "Location: https://dac.lip6.fr/wp-content/uploads/2021/01/expert.zip [following]\n",
      "--2021-02-27 13:05:04--  https://dac.lip6.fr/wp-content/uploads/2021/01/expert.zip\n",
      "Connecting to dac.lip6.fr (dac.lip6.fr)|132.227.201.10|:443... connected.\n",
      "HTTP request sent, awaiting response... 200 OK\n",
      "Length: 8377 (8,2K) [application/zip]\n",
      "Saving to: ‘expert.zip’\n",
      "\n",
      "expert.zip          100%[===================>]   8,18K  --.-KB/s    in 0s      \n",
      "\n",
      "2021-02-27 13:05:04 (70,4 MB/s) - ‘expert.zip’ saved [8377/8377]\n",
      "\n",
      "Archive:  expert.zip\n",
      "  inflating: expert.pkl              \n"
     ]
    }
   ],
   "source": [
    "!wget http://dac.lip6.fr/wp-content/uploads/2021/01/expert.zip -O expert.zip\n",
    "!unzip -o expert.zip\n",
    "!rm expert.zip"
   ]
  },
  {
   "cell_type": "markdown",
   "id": "apparent-boundary",
   "metadata": {},
   "source": [
    "# Hyper-parameters"
   ]
  },
  {
   "cell_type": "code",
   "execution_count": 6,
   "id": "better-athens",
   "metadata": {
    "tags": []
   },
   "outputs": [],
   "source": [
    "freq_test = 1000\n",
    "freq_opt = 1000\n",
    "n_iter_max = 200000\n",
    "\n",
    "env = gym.make('LunarLander-v2')\n",
    "\n",
    "nbFeatures = env.reset().shape[0]\n",
    "nbActions = env.action_space.n"
   ]
  },
  {
   "cell_type": "markdown",
   "id": "legendary-circulation",
   "metadata": {},
   "source": [
    "# Useful functions"
   ]
  },
  {
   "cell_type": "code",
   "execution_count": null,
   "id": "nuclear-profession",
   "metadata": {},
   "outputs": [],
   "source": []
  },
  {
   "cell_type": "markdown",
   "id": "outstanding-geography",
   "metadata": {},
   "source": [
    "# Fonction d'entraînement (GAIL)"
   ]
  },
  {
   "cell_type": "code",
   "execution_count": null,
   "id": "brazilian-dance",
   "metadata": {},
   "outputs": [],
   "source": [
    "def train(gail, env, n_iter_max, freq_opt = 1000):\n",
    "    for it in range(n_iter_max):\n",
    "        if it % freq_test:\n",
    "            pass\n",
    "        \n",
    "        ob = env.reset()\n",
    "        list_couples_expert = gail.get_couples_expert(freq_opt)\n",
    "        list_couples_agent = torch.FloatTensor().to(device), torch.FloatTensor().to(device)\n",
    "        while True:\n",
    "            # Sample trajectories freq_opt steps\n",
    "        "
   ]
  },
  {
   "cell_type": "markdown",
   "id": "flexible-marina",
   "metadata": {},
   "source": [
    "# Agent PPO"
   ]
  },
  {
   "cell_type": "code",
   "execution_count": null,
   "id": "necessary-consolidation",
   "metadata": {},
   "outputs": [],
   "source": [
    "class ClippedPPO(BaseAgent):\n",
    "    def __init__(self,\n",
    "        env, opt, p_layers=[32], v_layers=[32], gamma=0.99, lr=7e-4,\n",
    "        grad_clip_val=1.0, batch_size=32, clip_ratio=0.01, ent_coef=0.01,\n",
    "        p_train_steps=32, v_train_steps=32):\n",
    "\n",
    "        super(ClippedPPO, self).__init__(env, opt)\n",
    "\n",
    "        # training options\n",
    "        self.gamma = opt.get('gamma', gamma)\n",
    "        self.batch_size = opt.get('batch_size', batch_size)\n",
    "        self.clip_val = opt.get('clipVal', grad_clip_val)\n",
    "        self.ent_coef = opt.get('entropyCoef', ent_coef)\n",
    "        self.p_train_steps = opt.get('policyTrainSteps', p_train_steps)\n",
    "#         self.v_train_steps = opt.get('valueTrainSteps', v_train_steps)\n",
    "        self.clip_ratio = opt.get('clipRatio', clip_ratio)\n",
    "\n",
    "        # optimizer options\n",
    "        self.lr = opt.get('learningRate', lr)\n",
    "\n",
    "        self.test = False # flag for testing mode\n",
    "\n",
    "        # policy network\n",
    "        obs_size, out_size = self.featureExtractor.outSize, env.action_space.n\n",
    "        p_layers =  opt.get('policyLayers', p_layers)\n",
    "        self.P = NN(obs_size, out_size, layers=p_layers)\n",
    "\n",
    "        # value network\n",
    "#         v_layers = opt.get('valueLayers', v_layers)\n",
    "#         self.V = NN(obs_size, 1, layers=v_layers)\n",
    "\n",
    "        # optimizer and value loss\n",
    "#         self.v_loss_fn = torch.nn.SmoothL1Loss()\n",
    "        self.p_optim = torch.optim.Adam(self.P.parameters(), self.lr)\n",
    "#         self.v_optim = torch.optim.Adam(self.V.parameters(), self.lr)\n",
    "\n",
    "    def learn(self, batch):\n",
    "        obs, act, adv, tgt, old_logp = batch\n",
    "\n",
    "        # take K training steps for the policy network\n",
    "        for _ in range(self.p_train_steps):\n",
    "            dist, logp = self._compute_policy_dist(obs, act)\n",
    "\n",
    "            ratio = torch.exp(logp - old_logp)\n",
    "            clip_adv = torch.clamp(ratio, 1 - self.clip_ratio, 1 + self.clip_ratio) * adv\n",
    "\n",
    "            p_loss = -(torch.min(ratio * adv, clip_adv)).mean()\n",
    "            entropy = torch.mean(dist.entropy())\n",
    "\n",
    "            self.p_optim.zero_grad()\n",
    "            loss = p_loss + self.ent_coef * entropy\n",
    "            loss.backward()\n",
    "            torch.nn.utils.clip_grad_norm_(self.P.parameters(), self.clip_val)\n",
    "            self.p_optim.step()\n",
    "\n",
    "        return loss.detach().item()\n",
    "\n",
    "    def _compute_policy_dist(self, obs, act=None):\n",
    "        logits = self.P(obs)\n",
    "        dist = Categorical(logits=logits)\n",
    "        if act is not None:\n",
    "            logp = dist.log_prob(act)\n",
    "            return dist, logp\n",
    "        return dist, None\n",
    "\n",
    "    def act(self, observation):\n",
    "        with torch.no_grad():\n",
    "            obs = torch.tensor(\n",
    "                self.featureExtractor.getFeatures(observation),\n",
    "                dtype=torch.float32)\n",
    "            value = self.V(obs)\n",
    "            dist, _ = self._compute_policy_dist(obs)\n",
    "            action = dist.sample()\n",
    "            logp = dist.log_prob(action)\n",
    "        return action.item(), value, logp\n"
   ]
  },
  {
   "cell_type": "markdown",
   "id": "utility-physics",
   "metadata": {},
   "source": [
    "# Architectures"
   ]
  },
  {
   "cell_type": "code",
   "execution_count": 27,
   "id": "bigger-spectacular",
   "metadata": {},
   "outputs": [],
   "source": [
    "class Discriminator(nn.Module):\n",
    "    def __init__(self, input_size):\n",
    "        super(Discriminator, self).__init__()\n",
    "        self.input_size = input_size\n",
    "        self.main = nn.Sequential(\n",
    "            nn.Linear(input_size, 100),\n",
    "            nn.Tanh(),\n",
    "            nn.Linear(100, 100),\n",
    "            nn.Tanh(),\n",
    "            nn.Linear(100, 1),\n",
    "            nn.Sigmoid()\n",
    "        )\n",
    "    def forward(x):\n",
    "        return self.main(x)\n",
    "\n",
    "    \n",
    "class Generator(nn.Module):\n",
    "    def __init__(self, input_size, output_size):\n",
    "        super(Generator, self).__init__()\n",
    "        self.input_size = input_size\n",
    "        self.output_size = output_size\n",
    "        self.main = nn.Sequential(\n",
    "            nn.Linear(input_size, 64),\n",
    "            nn.Tanh(),\n",
    "            nn.Linear(64, 32),\n",
    "            nn.Tanh(),\n",
    "            nn.Linear(32, output_size),\n",
    "            nn.Tanh()\n",
    "        )\n",
    "    def forward(x):\n",
    "        return self.main(x)\n",
    "\n",
    "class GAIL(nn.Module):\n",
    "    def __init__(self, nbFeatures, nbActions, expert_file):\n",
    "        super(GAIL, self).__init__()\n",
    "        self.nbFeatures = nbFeatures\n",
    "        self.nbActions = nbActions\n",
    "        self.discriminator = Discriminator(nbFeatures+nbActions)\n",
    "        self.generator = Generator(nbFeatures, nbActions)\n",
    "        self.floatTensor = torch.FloatTensor().to(device)\n",
    "        self.longTensor = torch.LongTensor().to(device)\n",
    "        self.loadExpertTransitions(expert_file)\n",
    "        self.to(device)\n",
    "        \n",
    "        \n",
    "    def loadExpertTransitions(self,file):\n",
    "        with open(file,'rb') as handle:\n",
    "            expert_data = pickle.load(handle).to(self.floatTensor)\n",
    "            expert_states = expert_data[:,:self.nbFeatures]\n",
    "            expert_actions = expert_data[:,self.nbFeatures:]\n",
    "            self.expert_states = expert_states.contiguous()\n",
    "            self.expert_actions = expert_actions.contiguous()\n",
    "\n",
    "    def toOneHot(self, actions) :\n",
    "        actions = actions.view(-1).to(self.longTensor)\n",
    "        oneHot = torch.zeros(actions.size()[0],self.nbActons).to(self.floatTensor)\n",
    "        oneHot[range(actions.size()[0]),actions]=1\n",
    "        return oneHot\n",
    "\n",
    "    def toIndexAction(self, oneHot):\n",
    "        ac = self.longTensor.new(range(self.nbActions)).view(1,-1)\n",
    "        ac = ac.expand(oneHot.size()[0],-1).contiguous().view(-1)\n",
    "        actions = ac[oneHot.view(-1)>0].view(-1)\n",
    "        return actions\n",
    "    \n",
    "    def discriminate(self, x):\n",
    "        x = x.to(self.floatTensor)\n",
    "        return self.discriminator(x)\n",
    "    \n",
    "    def get_couples_expert(self, n_couples):\n",
    "        # choose n_couples idx\n",
    "        indices = np.random.choice(self.expert_states.size(0), n_couples)\n",
    "        \n",
    "        return self.expert_states[indices], self.expert_actions[indices]\n",
    "        \n",
    "    def act(self, ob):\n",
    "        x = x.to(self.floatTensor)\n",
    "        return self.generator(x)"
   ]
  },
  {
   "cell_type": "markdown",
   "id": "sporting-parent",
   "metadata": {},
   "source": [
    "# Entraînement du Agent"
   ]
  },
  {
   "cell_type": "code",
   "execution_count": 28,
   "id": "behavioral-equipment",
   "metadata": {},
   "outputs": [
    {
     "data": {
      "text/plain": [
       "device(type='cuda')"
      ]
     },
     "execution_count": 28,
     "metadata": {},
     "output_type": "execute_result"
    }
   ],
   "source": [
    "device"
   ]
  },
  {
   "cell_type": "code",
   "execution_count": 29,
   "id": "mathematical-bronze",
   "metadata": {},
   "outputs": [],
   "source": [
    "model_gail = GAIL(nbFeatures=nbFeatures, nbActions=nbActions, expert_file='expert.pkl')"
   ]
  },
  {
   "cell_type": "code",
   "execution_count": 30,
   "id": "needed-bhutan",
   "metadata": {},
   "outputs": [
    {
     "data": {
      "text/plain": [
       "(tensor([[ 2.8157e-01,  3.6903e-01,  1.4407e-01, -6.7590e-01,  2.5916e-01,\n",
       "           6.5700e-03,  0.0000e+00,  0.0000e+00],\n",
       "         [ 1.9798e-01, -3.1209e-02, -1.3679e-02,  6.2756e-02, -1.6328e-01,\n",
       "           1.3169e-02,  1.0000e+00,  1.0000e+00],\n",
       "         [ 2.5586e-01, -3.3138e-02,  9.4720e-02, -1.0189e-02, -2.3021e-01,\n",
       "          -3.0590e-02,  1.0000e+00,  1.0000e+00],\n",
       "         [ 2.0318e-01, -2.0744e-02,  3.6185e-02, -3.7013e-03, -1.4336e-01,\n",
       "          -1.1626e-02,  1.0000e+00,  1.0000e+00],\n",
       "         [ 2.2209e-01, -2.6553e-02, -2.9242e-01, -8.9775e-02, -3.5659e-01,\n",
       "          -4.3643e-01,  1.0000e+00,  0.0000e+00],\n",
       "         [ 2.2963e-01, -2.6714e-02,  7.8331e-02, -8.2146e-03, -1.8931e-01,\n",
       "          -2.5197e-02,  1.0000e+00,  1.0000e+00],\n",
       "         [ 2.7826e-01, -3.8508e-02,  1.2366e-01, -1.3571e-02, -2.6655e-01,\n",
       "          -4.0081e-02,  1.0000e+00,  1.0000e+00],\n",
       "         [ 3.0737e-01, -4.7081e-02,  1.3407e-01, -2.8179e-02, -3.0453e-01,\n",
       "          -4.1337e-08,  1.0000e+00,  1.0000e+00],\n",
       "         [ 1.9798e-01, -3.1209e-02, -1.3679e-02,  6.2756e-02, -1.6328e-01,\n",
       "           1.3169e-02,  1.0000e+00,  1.0000e+00],\n",
       "         [ 2.6317e-01, -3.4900e-02,  9.7499e-02, -1.0556e-02, -2.4221e-01,\n",
       "          -3.1515e-02,  1.0000e+00,  1.0000e+00]], device='cuda:0'),\n",
       " tensor([[0., 0., 1., 0.],\n",
       "         [1., 0., 0., 0.],\n",
       "         [0., 1., 0., 0.],\n",
       "         [1., 0., 0., 0.],\n",
       "         [0., 0., 1., 0.],\n",
       "         [1., 0., 0., 0.],\n",
       "         [1., 0., 0., 0.],\n",
       "         [1., 0., 0., 0.],\n",
       "         [1., 0., 0., 0.],\n",
       "         [1., 0., 0., 0.]], device='cuda:0'))"
      ]
     },
     "execution_count": 30,
     "metadata": {},
     "output_type": "execute_result"
    }
   ],
   "source": [
    "model_gail.get_couples_expert(10)"
   ]
  }
 ],
 "metadata": {
  "kernelspec": {
   "display_name": "Python 3",
   "language": "python",
   "name": "python3"
  },
  "language_info": {
   "codemirror_mode": {
    "name": "ipython",
    "version": 3
   },
   "file_extension": ".py",
   "mimetype": "text/x-python",
   "name": "python",
   "nbconvert_exporter": "python",
   "pygments_lexer": "ipython3",
   "version": "3.8.5"
  }
 },
 "nbformat": 4,
 "nbformat_minor": 5
}